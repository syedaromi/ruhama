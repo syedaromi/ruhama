{
 "cells": [
  {
   "cell_type": "markdown",
   "id": "2581d7d0",
   "metadata": {},
   "source": [
    "##### Printing Hello World Using a Variable"
   ]
  },
  {
   "cell_type": "code",
   "execution_count": 2,
   "id": "f8978248",
   "metadata": {},
   "outputs": [
    {
     "name": "stdout",
     "output_type": "stream",
     "text": [
      "Hello World\n"
     ]
    }
   ],
   "source": [
    "message = \"Hello World\"\n",
    "print(message)"
   ]
  },
  {
   "cell_type": "markdown",
   "id": "59d1a328",
   "metadata": {},
   "source": [
    "##### Printing Hello World Using a List"
   ]
  },
  {
   "cell_type": "code",
   "execution_count": 4,
   "id": "60d53899",
   "metadata": {},
   "outputs": [
    {
     "name": "stdout",
     "output_type": "stream",
     "text": [
      "['Hello', 'World']\n"
     ]
    }
   ],
   "source": [
    "mylist = [\"Hello\",\"World\"]\n",
    "print(mylist) "
   ]
  },
  {
   "cell_type": "markdown",
   "id": "6405b099",
   "metadata": {},
   "source": [
    "##### Printing Hello World Using a Sets"
   ]
  },
  {
   "cell_type": "code",
   "execution_count": 10,
   "id": "0a719060",
   "metadata": {},
   "outputs": [
    {
     "name": "stdout",
     "output_type": "stream",
     "text": [
      "{'World', 'Hello'}\n"
     ]
    }
   ],
   "source": [
    "myset = {\"Hello\", \"World\", \"Hello\", \"World\"}\n",
    "\n",
    "print(myset)"
   ]
  },
  {
   "cell_type": "markdown",
   "id": "4c2a8ae3",
   "metadata": {},
   "source": [
    "##### Printing Hello World Using  Data Type (Str)"
   ]
  },
  {
   "cell_type": "code",
   "execution_count": 11,
   "id": "53febe8b",
   "metadata": {},
   "outputs": [
    {
     "name": "stdout",
     "output_type": "stream",
     "text": [
      "Hello World\n",
      "<class 'str'>\n"
     ]
    }
   ],
   "source": [
    "x = \"Hello World\"\n",
    "\n",
    "print(x)\n",
    "\n",
    "print(type(x)) "
   ]
  },
  {
   "cell_type": "markdown",
   "id": "516fb451",
   "metadata": {},
   "source": [
    "##### Concatenate two Python Strings to Print Hello World"
   ]
  },
  {
   "cell_type": "code",
   "execution_count": 2,
   "id": "3886de54",
   "metadata": {},
   "outputs": [
    {
     "name": "stdout",
     "output_type": "stream",
     "text": [
      "Hello World\n"
     ]
    }
   ],
   "source": [
    "word1 = \"Hello\"\n",
    "word2 = \"World\"\n",
    "print(word1 + \" \" + word2)\n"
   ]
  }
 ],
 "metadata": {
  "kernelspec": {
   "display_name": "Python 3 (ipykernel)",
   "language": "python",
   "name": "python3"
  },
  "language_info": {
   "codemirror_mode": {
    "name": "ipython",
    "version": 3
   },
   "file_extension": ".py",
   "mimetype": "text/x-python",
   "name": "python",
   "nbconvert_exporter": "python",
   "pygments_lexer": "ipython3",
   "version": "3.11.3"
  }
 },
 "nbformat": 4,
 "nbformat_minor": 5
}
