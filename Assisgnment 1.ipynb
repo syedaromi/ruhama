{
 "cells": [
  {
   "cell_type": "code",
   "execution_count": 1,
   "id": "a5281176",
   "metadata": {},
   "outputs": [
    {
     "name": "stdout",
     "output_type": "stream",
     "text": [
      "3\n"
     ]
    }
   ],
   "source": [
    "a = 1\n",
    "b = 2\n",
    "print(a+b)"
   ]
  },
  {
   "cell_type": "code",
   "execution_count": 4,
   "id": "0827a4b1",
   "metadata": {},
   "outputs": [
    {
     "name": "stdout",
     "output_type": "stream",
     "text": [
      "Ruhama Mansoor\n",
      "<class 'str'>\n",
      "2798322113200\n"
     ]
    }
   ],
   "source": [
    "name = \"Ruhama Mansoor\"\n",
    "print(name)\n",
    "print(type(name))\n",
    "print(id(name))"
   ]
  },
  {
   "cell_type": "code",
   "execution_count": 7,
   "id": "236c3b7a",
   "metadata": {},
   "outputs": [
    {
     "name": "stdout",
     "output_type": "stream",
     "text": [
      "{'cherry', 'apple', 'orange'}\n",
      "<class 'set'>\n",
      "2798323833696\n"
     ]
    }
   ],
   "source": [
    "f ={\"apple\",\"cherry\",\"orange\",\"apple\"}\n",
    "print(f)\n",
    "print(type(f))\n",
    "print(id(f))"
   ]
  },
  {
   "cell_type": "code",
   "execution_count": 8,
   "id": "7fe5c6c6",
   "metadata": {},
   "outputs": [
    {
     "name": "stdout",
     "output_type": "stream",
     "text": [
      "{'name': 'Ruhama Mansoor', 'Education': 'BS(SE)'}\n",
      "<class 'dict'>\n",
      "2798335251136\n"
     ]
    }
   ],
   "source": [
    "j = {\"Name\":\"Ruhama Mansoor\",\"Education\":\"BS(SE)\"}\n",
    "print(j)\n",
    "print(type(j))\n",
    "print(id(j))"
   ]
  },
  {
   "cell_type": "code",
   "execution_count": 14,
   "id": "22e2011c",
   "metadata": {},
   "outputs": [
    {
     "name": "stdout",
     "output_type": "stream",
     "text": [
      "9 <class 'int'> 140729924883496\n",
      "9 <class 'str'> 140729924927040\n",
      "9.0 <class 'float'> 2798321451088\n"
     ]
    }
   ],
   "source": [
    "b = 9\n",
    "print(b,type(b),id(b))\n",
    "\n",
    "b = '9'\n",
    "print(b,type(b),id(b))\n",
    "\n",
    "b = 9.0\n",
    "print(b,type(b),id(b))"
   ]
  },
  {
   "cell_type": "markdown",
   "id": "6d478cb7",
   "metadata": {},
   "source": [
    "##### Python Shallow Copy and Deep Copy"
   ]
  },
  {
   "cell_type": "code",
   "execution_count": 18,
   "id": "3e8dcb43",
   "metadata": {},
   "outputs": [
    {
     "name": "stdout",
     "output_type": "stream",
     "text": [
      "Old List: [[1, 2, 3], [4, 5, 6], [7, 8, 'a']]\n",
      "ID of Old List: 2798321394880\n",
      "New List: [[1, 2, 3], [4, 5, 6], [7, 8, 9]]\n",
      "ID of New List: 2798335681088\n"
     ]
    }
   ],
   "source": [
    "old_list = [[1, 2, 3], [4, 5, 6], [7, 8, 'a']]\n",
    "new_list = old_list\n",
    "\n",
    "new_list[2][2] = 9\n",
    "\n",
    "print('Old List:', old_list)\n",
    "print('ID of Old List:', id(old_list))\n",
    "\n",
    "print('New List:', new_list)\n",
    "print('ID of New List:', id(new_list)) "
   ]
  },
  {
   "cell_type": "markdown",
   "id": "6784a3db",
   "metadata": {},
   "source": [
    "##### Python Arithmetic Operators"
   ]
  },
  {
   "cell_type": "code",
   "execution_count": 23,
   "id": "154a2bdd",
   "metadata": {},
   "outputs": [
    {
     "name": "stdout",
     "output_type": "stream",
     "text": [
      "8 Addition\n",
      "2 Subtraction\n",
      "15 Multiplication\n",
      "1.6666666666666667 Dividion\n",
      "2 Modulus\n"
     ]
    }
   ],
   "source": [
    "x = 5\n",
    "y = 3\n",
    "\n",
    "print(5+3,\"Addition\")\n",
    "print(5-3,\"Subtraction\")\n",
    "print(5*3,\"Multiplication\")\n",
    "print(5/3,\"Dividion\")\n",
    "print(5%3,\"Modulus\")\n"
   ]
  },
  {
   "cell_type": "markdown",
   "id": "a062f2d2",
   "metadata": {},
   "source": [
    "##### Python Logical Operators"
   ]
  },
  {
   "cell_type": "code",
   "execution_count": 24,
   "id": "d1412081",
   "metadata": {},
   "outputs": [
    {
     "name": "stdout",
     "output_type": "stream",
     "text": [
      "True\n",
      "False\n",
      "False\n",
      "False\n"
     ]
    }
   ],
   "source": [
    " #      1       2         3       4\n",
    "print(True and True and True and True)\n",
    "print(True and False and True and False )\n",
    "print(True and False and False and False)\n",
    "print(False and False and False and False )\n"
   ]
  },
  {
   "cell_type": "code",
   "execution_count": 25,
   "id": "e51313ac",
   "metadata": {},
   "outputs": [
    {
     "name": "stdout",
     "output_type": "stream",
     "text": [
      "True\n",
      "True\n",
      "True\n",
      "False\n"
     ]
    }
   ],
   "source": [
    " #      1       2         3       4\n",
    "print(True or True or True or True)\n",
    "print(True or False or True or False )\n",
    "print(True or False or False or False)\n",
    "print(False or False or False or False )"
   ]
  }
 ],
 "metadata": {
  "kernelspec": {
   "display_name": "Python 3 (ipykernel)",
   "language": "python",
   "name": "python3"
  },
  "language_info": {
   "codemirror_mode": {
    "name": "ipython",
    "version": 3
   },
   "file_extension": ".py",
   "mimetype": "text/x-python",
   "name": "python",
   "nbconvert_exporter": "python",
   "pygments_lexer": "ipython3",
   "version": "3.11.3"
  }
 },
 "nbformat": 4,
 "nbformat_minor": 5
}
