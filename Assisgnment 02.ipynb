{
 "cells": [
  {
   "cell_type": "markdown",
   "id": "9e7a0727",
   "metadata": {},
   "source": [
    "##### Assignment 1: String Concatenation and Formatting\n"
   ]
  },
  {
   "cell_type": "code",
   "execution_count": 21,
   "id": "b97a5f58",
   "metadata": {},
   "outputs": [
    {
     "name": "stdout",
     "output_type": "stream",
     "text": [
      "My name is Ruhama Mansoor,\n",
      "I am 27 years old,\n",
      "and I live in Pakistan.\n"
     ]
    }
   ],
   "source": [
    "\n",
    "name = \"Ruhama Mansoor\"\n",
    "age = \"27\"\n",
    "country = \"Pakistan\"\n",
    "\n",
    "result = ( \"My name is \" + name +\",\\nI am \" + str(age) +\" years old,\\nand I live in \"+(country)+\".\" )\n",
    "\n",
    "print(result)"
   ]
  },
  {
   "cell_type": "markdown",
   "id": "0d2142f9",
   "metadata": {},
   "source": [
    "##### Assignment 2: String Formatting using .format()"
   ]
  },
  {
   "cell_type": "code",
   "execution_count": 18,
   "id": "ac77608b",
   "metadata": {},
   "outputs": [
    {
     "name": "stdout",
     "output_type": "stream",
     "text": [
      "I bought 6 book(s) at 600 each, for a total of $3600.\n"
     ]
    }
   ],
   "source": [
    "item = \"book\"\n",
    "price = 600\n",
    "quantity = 6\n",
    "total_cost = price*quantity\n",
    "formatted_string = \"I bought {} {}(s) at {} each, for a total of ${}.\".format(quantity,item,price,total_cost)\n",
    "\n",
    "print(formatted_string)"
   ]
  },
  {
   "cell_type": "markdown",
   "id": "e8e1c5f6",
   "metadata": {},
   "source": [
    "##### Assignment 3: String Interpolation using `f'"
   ]
  },
  {
   "cell_type": "code",
   "execution_count": 19,
   "id": "2cf2a205",
   "metadata": {},
   "outputs": [
    {
     "name": "stdout",
     "output_type": "stream",
     "text": [
      "The temperature in Germany is 13°C.\n"
     ]
    }
   ],
   "source": [
    "city = \"Germany\"\n",
    "temperature = 13\n",
    "comment = f\"The temperature in {city} is {temperature}°C.\"\n",
    "\n",
    "print(comment)\n",
    "\n"
   ]
  },
  {
   "cell_type": "markdown",
   "id": "3c4361ce",
   "metadata": {},
   "source": [
    "##### Assignment 4: String Formatting using `%()"
   ]
  },
  {
   "cell_type": "code",
   "execution_count": 20,
   "id": "5e1bf621",
   "metadata": {},
   "outputs": [
    {
     "name": "stdout",
     "output_type": "stream",
     "text": [
      "My name is Ruhama Mansoor.\n",
      " I am 27 years old.\n"
     ]
    }
   ],
   "source": [
    "first_name = \"Ruhama\"\n",
    "last_name  = \"Mansoor\"\n",
    "birth_year =  1996\n",
    "current_year = 2023\n",
    "age = current_year - birth_year\n",
    "\n",
    "formatted_string = \"My name is %s %s.\\n I am %d years old.\" % (first_name, last_name, age)\n",
    "\n",
    "print(formatted_string)"
   ]
  },
  {
   "cell_type": "markdown",
   "id": "81a6123c",
   "metadata": {},
   "source": [
    "##### Assignment 5: Combining Formatting Methods*"
   ]
  },
  {
   "cell_type": "code",
   "execution_count": 22,
   "id": "d1095a8a",
   "metadata": {},
   "outputs": [
    {
     "name": "stdout",
     "output_type": "stream",
     "text": [
      "Product Name:\t\tCar\n",
      "original_price:\t\t234900 pkr \n",
      "discounted Price:\t229027.5 pkr \n"
     ]
    }
   ],
   "source": [
    "product = \"Car\"\n",
    "discount = 2.5\n",
    "original_price = 234900\n",
    "discounted_price = original_price*(1-discount/100) \n",
    "price = f\"Product Name:\\t\\t{product}\\noriginal_price:\\t\\t{original_price} pkr \\ndiscounted Price:\\t{discounted_price} pkr \"\n",
    "\n",
    "print(price)"
   ]
  },
  {
   "cell_type": "code",
   "execution_count": null,
   "id": "e581c0a5",
   "metadata": {},
   "outputs": [],
   "source": []
  }
 ],
 "metadata": {
  "kernelspec": {
   "display_name": "Python 3 (ipykernel)",
   "language": "python",
   "name": "python3"
  },
  "language_info": {
   "codemirror_mode": {
    "name": "ipython",
    "version": 3
   },
   "file_extension": ".py",
   "mimetype": "text/x-python",
   "name": "python",
   "nbconvert_exporter": "python",
   "pygments_lexer": "ipython3",
   "version": "3.11.3"
  }
 },
 "nbformat": 4,
 "nbformat_minor": 5
}
